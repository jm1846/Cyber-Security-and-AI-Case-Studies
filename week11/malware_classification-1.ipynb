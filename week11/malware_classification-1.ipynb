{
 "cells": [
  {
   "cell_type": "markdown",
   "metadata": {
    "id": "pOcqXHG7w-Tk"
   },
   "source": [
    "# Lab Work: Developing and Comparing AI Models for Android Malware Detection\n",
    "\n",
    "## Objective:\n",
    "The goal of this lab is to develop and evaluate multiple AI models for detecting Android malware using the provided Android Malware Dataset. Students will choose at least three different machine learning or deep learning algorithms to compare their performance in classifying Android applications as benign or malicious.\n",
    "\n",
    "## Dataset Overview:\n",
    "The **Android Malware Dataset for Machine Learning** contains labeled Android APK samples, classified as benign (goodware) or malicious (e.g., adware, spyware, trojans). It includes various features extracted from the APKs, such as requested permissions, API calls, system behaviors, and more, which can be used to train machine learning models.\n",
    "\n",
    "## Tasks:\n",
    "\n",
    "1. **Data Preprocessing**:\n",
    "   - Load the dataset and clean it by handling missing values and converting categorical features into numerical ones if necessary.\n",
    "   - Split the data into training and testing sets.\n",
    "\n",
    "2. **Model Development**:\n",
    "   - Choose at least **three AI algorithms** of your choice (e.g., Logistic Regression, Random Forest, SVM, Neural Networks, XGBoost, etc.).\n",
    "   - Train each model on the dataset and evaluate their performance using accuracy, precision, recall, F1-score, and confusion matrix.\n",
    "\n",
    "3. **Model Comparison**:\n",
    "   - Compare the models based on their performance metrics.\n",
    "   - Analyze which model performs best and why.\n",
    "\n",
    "4. **Optional (Hyperparameter Tuning)**:\n",
    "   - Optionally, apply techniques like grid search to optimize the model’s hyperparameters.\n",
    "\n",
    "\n",
    "## Resources:\n",
    "- Kaggle Dataset: [Android Malware Dataset for Machine Learning](https://www.kaggle.com/datasets/shashwatwork/android-malware-dataset-for-machine-learning)\n",
    "\n",
    "You need to login in Kaggle to get access to the dataset.\n"
   ]
  },
  {
   "cell_type": "code",
   "execution_count": 2,
   "metadata": {
    "id": "K48a8JcixVFT"
   },
   "outputs": [
    {
     "name": "stderr",
     "output_type": "stream",
     "text": [
      "2025-03-31 15:25:34.935881: E external/local_xla/xla/stream_executor/cuda/cuda_fft.cc:477] Unable to register cuFFT factory: Attempting to register factory for plugin cuFFT when one has already been registered\n",
      "WARNING: All log messages before absl::InitializeLog() is called are written to STDERR\n",
      "E0000 00:00:1743431134.970399   22510 cuda_dnn.cc:8310] Unable to register cuDNN factory: Attempting to register factory for plugin cuDNN when one has already been registered\n",
      "E0000 00:00:1743431134.980806   22510 cuda_blas.cc:1418] Unable to register cuBLAS factory: Attempting to register factory for plugin cuBLAS when one has already been registered\n",
      "2025-03-31 15:25:35.015690: I tensorflow/core/platform/cpu_feature_guard.cc:210] This TensorFlow binary is optimized to use available CPU instructions in performance-critical operations.\n",
      "To enable the following instructions: AVX2 FMA, in other operations, rebuild TensorFlow with the appropriate compiler flags.\n"
     ]
    },
    {
     "data": {
      "text/html": [
       "<div>\n",
       "<style scoped>\n",
       "    .dataframe tbody tr th:only-of-type {\n",
       "        vertical-align: middle;\n",
       "    }\n",
       "\n",
       "    .dataframe tbody tr th {\n",
       "        vertical-align: top;\n",
       "    }\n",
       "\n",
       "    .dataframe thead th {\n",
       "        text-align: right;\n",
       "    }\n",
       "</style>\n",
       "<table border=\"1\" class=\"dataframe\">\n",
       "  <thead>\n",
       "    <tr style=\"text-align: right;\">\n",
       "      <th></th>\n",
       "      <th>transact</th>\n",
       "      <th>API call signature</th>\n",
       "    </tr>\n",
       "  </thead>\n",
       "  <tbody>\n",
       "    <tr>\n",
       "      <th>0</th>\n",
       "      <td>onServiceConnected</td>\n",
       "      <td>API call signature</td>\n",
       "    </tr>\n",
       "    <tr>\n",
       "      <th>1</th>\n",
       "      <td>bindService</td>\n",
       "      <td>API call signature</td>\n",
       "    </tr>\n",
       "    <tr>\n",
       "      <th>2</th>\n",
       "      <td>attachInterface</td>\n",
       "      <td>API call signature</td>\n",
       "    </tr>\n",
       "    <tr>\n",
       "      <th>3</th>\n",
       "      <td>ServiceConnection</td>\n",
       "      <td>API call signature</td>\n",
       "    </tr>\n",
       "    <tr>\n",
       "      <th>4</th>\n",
       "      <td>android.os.Binder</td>\n",
       "      <td>API call signature</td>\n",
       "    </tr>\n",
       "    <tr>\n",
       "      <th>...</th>\n",
       "      <td>...</td>\n",
       "      <td>...</td>\n",
       "    </tr>\n",
       "    <tr>\n",
       "      <th>210</th>\n",
       "      <td>ACCESS_FINE_LOCATION</td>\n",
       "      <td>Manifest Permission</td>\n",
       "    </tr>\n",
       "    <tr>\n",
       "      <th>211</th>\n",
       "      <td>SET_WALLPAPER_HINTS</td>\n",
       "      <td>Manifest Permission</td>\n",
       "    </tr>\n",
       "    <tr>\n",
       "      <th>212</th>\n",
       "      <td>SET_PREFERRED_APPLICATIONS</td>\n",
       "      <td>Manifest Permission</td>\n",
       "    </tr>\n",
       "    <tr>\n",
       "      <th>213</th>\n",
       "      <td>WRITE_SECURE_SETTINGS</td>\n",
       "      <td>Manifest Permission</td>\n",
       "    </tr>\n",
       "    <tr>\n",
       "      <th>214</th>\n",
       "      <td>class</td>\n",
       "      <td>B=Benign; S=Malware</td>\n",
       "    </tr>\n",
       "  </tbody>\n",
       "</table>\n",
       "<p>215 rows × 2 columns</p>\n",
       "</div>"
      ],
      "text/plain": [
       "                       transact   API call signature\n",
       "0            onServiceConnected   API call signature\n",
       "1                   bindService   API call signature\n",
       "2               attachInterface   API call signature\n",
       "3             ServiceConnection   API call signature\n",
       "4             android.os.Binder   API call signature\n",
       "..                          ...                  ...\n",
       "210        ACCESS_FINE_LOCATION  Manifest Permission\n",
       "211         SET_WALLPAPER_HINTS  Manifest Permission\n",
       "212  SET_PREFERRED_APPLICATIONS  Manifest Permission\n",
       "213       WRITE_SECURE_SETTINGS  Manifest Permission\n",
       "214                       class  B=Benign; S=Malware\n",
       "\n",
       "[215 rows x 2 columns]"
      ]
     },
     "execution_count": 2,
     "metadata": {},
     "output_type": "execute_result"
    }
   ],
   "source": [
    "#\n",
    "#\n",
    "#\n",
    "#\n",
    "# Your code to develop AI model for malware classification.\n",
    "# Hint: Use the example code provided in previous lab.\n",
    "#\n",
    "#\n",
    "#\n",
    "#\n",
    "\n",
    "import pandas as pd\n",
    "from sklearn.preprocessing import LabelEncoder\n",
    "import pandas as pd  # Importing pandas for data handling\n",
    "import numpy as np  # Importing numpy for numerical operations\n",
    "import seaborn as sns  # Importing seaborn for visualization\n",
    "import matplotlib.pyplot as plt  # Importing matplotlib for plotting graphs\n",
    "from sklearn.model_selection import train_test_split  # Splitting dataset into train and test\n",
    "from sklearn.preprocessing import StandardScaler, LabelEncoder  # Encoding categorical variables and scaling data\n",
    "from sklearn.ensemble import RandomForestClassifier, GradientBoostingClassifier  # Importing classification models\n",
    "from sklearn.svm import SVC  # Importing Support Vector Classifier\n",
    "from sklearn.metrics import accuracy_score, classification_report, confusion_matrix  # Evaluation metrics\n",
    "import tensorflow as tf  # TensorFlow for deep learning\n",
    "from tensorflow import keras  # Keras API for building models\n",
    "from tensorflow.keras.models import Sequential  # Sequential model type\n",
    "from tensorflow.keras.layers import Dense, Dropout, LSTM  # Neural network layers\n",
    "\n",
    "\n",
    "df = pd.read_csv(\"dataset-features-categories.xls\")\n",
    "\n",
    "df"
   ]
  },
  {
   "cell_type": "code",
   "execution_count": 3,
   "metadata": {},
   "outputs": [],
   "source": [
    "# Encoding categorical variables into numeric form\n",
    "encoder = LabelEncoder()\n",
    "categorical_columns = ['transact', 'API call signature']\n",
    "for col in categorical_columns:\n",
    "    df[col] = encoder.fit_transform(df[col])"
   ]
  },
  {
   "cell_type": "markdown",
   "metadata": {
    "id": "h6_8o5mcx2D3"
   },
   "source": [
    "**Lab Logbook requirement**: Provide a graph comparing the performance of the AI model that you have developed."
   ]
  },
  {
   "cell_type": "code",
   "execution_count": 5,
   "metadata": {},
   "outputs": [],
   "source": [
    "X = df.drop('API call signature', axis=1)\n",
    "y = df['API call signature']\n",
    "X_train, X_test, y_train, y_test = train_test_split(X, y, test_size=0.2, random_state=42)\n",
    "\n",
    "# Feature scaling\n",
    "scaler = StandardScaler()\n",
    "X_train = scaler.fit_transform(X_train)\n",
    "X_test = scaler.transform(X_test)\n"
   ]
  },
  {
   "cell_type": "code",
   "execution_count": 6,
   "metadata": {},
   "outputs": [
    {
     "name": "stdout",
     "output_type": "stream",
     "text": [
      "Random Forest Accuracy: 0.9302325581395349\n",
      "              precision    recall  f1-score   support\n",
      "\n",
      "           0       0.83      0.91      0.87        11\n",
      "           3       1.00      1.00      1.00         4\n",
      "           4       0.96      0.93      0.95        28\n",
      "\n",
      "    accuracy                           0.93        43\n",
      "   macro avg       0.93      0.95      0.94        43\n",
      "weighted avg       0.93      0.93      0.93        43\n",
      "\n",
      "Gradient Boosting Accuracy: 0.9302325581395349\n",
      "              precision    recall  f1-score   support\n",
      "\n",
      "           0       0.83      0.91      0.87        11\n",
      "           3       1.00      1.00      1.00         4\n",
      "           4       0.96      0.93      0.95        28\n",
      "\n",
      "    accuracy                           0.93        43\n",
      "   macro avg       0.93      0.95      0.94        43\n",
      "weighted avg       0.93      0.93      0.93        43\n",
      "\n",
      "SVM Accuracy: 0.6511627906976745\n",
      "              precision    recall  f1-score   support\n",
      "\n",
      "           0       0.30      0.27      0.29        11\n",
      "           3       0.00      0.00      0.00         4\n",
      "           4       0.76      0.89      0.82        28\n",
      "\n",
      "    accuracy                           0.65        43\n",
      "   macro avg       0.35      0.39      0.37        43\n",
      "weighted avg       0.57      0.65      0.61        43\n",
      "\n"
     ]
    },
    {
     "name": "stderr",
     "output_type": "stream",
     "text": [
      "/home/shroudedsublet/anaconda3/lib/python3.12/site-packages/sklearn/metrics/_classification.py:1509: UndefinedMetricWarning: Precision is ill-defined and being set to 0.0 in labels with no predicted samples. Use `zero_division` parameter to control this behavior.\n",
      "  _warn_prf(average, modifier, f\"{metric.capitalize()} is\", len(result))\n",
      "/home/shroudedsublet/anaconda3/lib/python3.12/site-packages/sklearn/metrics/_classification.py:1509: UndefinedMetricWarning: Precision is ill-defined and being set to 0.0 in labels with no predicted samples. Use `zero_division` parameter to control this behavior.\n",
      "  _warn_prf(average, modifier, f\"{metric.capitalize()} is\", len(result))\n",
      "/home/shroudedsublet/anaconda3/lib/python3.12/site-packages/sklearn/metrics/_classification.py:1509: UndefinedMetricWarning: Precision is ill-defined and being set to 0.0 in labels with no predicted samples. Use `zero_division` parameter to control this behavior.\n",
      "  _warn_prf(average, modifier, f\"{metric.capitalize()} is\", len(result))\n"
     ]
    }
   ],
   "source": [
    "\n",
    "# RandomForest Classifier\n",
    "rf = RandomForestClassifier(n_estimators=100, random_state=42)\n",
    "rf.fit(X_train, y_train)\n",
    "y_pred_rf = rf.predict(X_test)\n",
    "print(\"Random Forest Accuracy:\", accuracy_score(y_test, y_pred_rf))\n",
    "print(classification_report(y_test, y_pred_rf))\n",
    "\n",
    "# Gradient Boosting Classifier\n",
    "gb = GradientBoostingClassifier(n_estimators=100, random_state=42)\n",
    "gb.fit(X_train, y_train)\n",
    "y_pred_gb = gb.predict(X_test)\n",
    "print(\"Gradient Boosting Accuracy:\", accuracy_score(y_test, y_pred_gb))\n",
    "print(classification_report(y_test, y_pred_gb))\n",
    "\n",
    "# Support Vector Machine (SVM)\n",
    "svm = SVC(kernel='linear', probability=True)\n",
    "svm.fit(X_train, y_train)\n",
    "y_pred_svm = svm.predict(X_test)\n",
    "print(\"SVM Accuracy:\", accuracy_score(y_test, y_pred_svm))\n",
    "print(classification_report(y_test, y_pred_svm))\n"
   ]
  },
  {
   "cell_type": "code",
   "execution_count": 7,
   "metadata": {},
   "outputs": [
    {
     "name": "stderr",
     "output_type": "stream",
     "text": [
      "/home/shroudedsublet/anaconda3/lib/python3.12/site-packages/keras/src/layers/core/dense.py:87: UserWarning: Do not pass an `input_shape`/`input_dim` argument to a layer. When using Sequential models, prefer using an `Input(shape)` object as the first layer in the model instead.\n",
      "  super().__init__(activity_regularizer=activity_regularizer, **kwargs)\n",
      "2025-03-31 15:25:40.575957: E external/local_xla/xla/stream_executor/cuda/cuda_driver.cc:152] failed call to cuInit: INTERNAL: CUDA error: Failed call to cuInit: UNKNOWN ERROR (303)\n"
     ]
    },
    {
     "name": "stdout",
     "output_type": "stream",
     "text": [
      "Epoch 1/20\n",
      "\u001b[1m6/6\u001b[0m \u001b[32m━━━━━━━━━━━━━━━━━━━━\u001b[0m\u001b[37m\u001b[0m \u001b[1m3s\u001b[0m 75ms/step - accuracy: 0.2318 - loss: 0.8568 - val_accuracy: 0.0000e+00 - val_loss: 0.5967\n",
      "Epoch 2/20\n",
      "\u001b[1m6/6\u001b[0m \u001b[32m━━━━━━━━━━━━━━━━━━━━\u001b[0m\u001b[37m\u001b[0m \u001b[1m0s\u001b[0m 11ms/step - accuracy: 0.1037 - loss: 0.6012 - val_accuracy: 0.0000e+00 - val_loss: 0.3369\n",
      "Epoch 3/20\n",
      "\u001b[1m6/6\u001b[0m \u001b[32m━━━━━━━━━━━━━━━━━━━━\u001b[0m\u001b[37m\u001b[0m \u001b[1m0s\u001b[0m 14ms/step - accuracy: 0.0232 - loss: 0.4101 - val_accuracy: 0.0000e+00 - val_loss: 0.0896\n",
      "Epoch 4/20\n",
      "\u001b[1m6/6\u001b[0m \u001b[32m━━━━━━━━━━━━━━━━━━━━\u001b[0m\u001b[37m\u001b[0m \u001b[1m0s\u001b[0m 11ms/step - accuracy: 0.0481 - loss: 0.1516 - val_accuracy: 0.0000e+00 - val_loss: -0.1753\n",
      "Epoch 5/20\n",
      "\u001b[1m6/6\u001b[0m \u001b[32m━━━━━━━━━━━━━━━━━━━━\u001b[0m\u001b[37m\u001b[0m \u001b[1m0s\u001b[0m 13ms/step - accuracy: 0.0077 - loss: -0.0959 - val_accuracy: 0.0000e+00 - val_loss: -0.4512\n",
      "Epoch 6/20\n",
      "\u001b[1m6/6\u001b[0m \u001b[32m━━━━━━━━━━━━━━━━━━━━\u001b[0m\u001b[37m\u001b[0m \u001b[1m0s\u001b[0m 11ms/step - accuracy: 0.0077 - loss: -0.1788 - val_accuracy: 0.0000e+00 - val_loss: -0.7404\n",
      "Epoch 7/20\n",
      "\u001b[1m6/6\u001b[0m \u001b[32m━━━━━━━━━━━━━━━━━━━━\u001b[0m\u001b[37m\u001b[0m \u001b[1m0s\u001b[0m 14ms/step - accuracy: 0.0124 - loss: -0.4941 - val_accuracy: 0.0000e+00 - val_loss: -1.0560\n",
      "Epoch 8/20\n",
      "\u001b[1m6/6\u001b[0m \u001b[32m━━━━━━━━━━━━━━━━━━━━\u001b[0m\u001b[37m\u001b[0m \u001b[1m0s\u001b[0m 16ms/step - accuracy: 0.0026 - loss: -0.7612 - val_accuracy: 0.0000e+00 - val_loss: -1.4210\n",
      "Epoch 9/20\n",
      "\u001b[1m6/6\u001b[0m \u001b[32m━━━━━━━━━━━━━━━━━━━━\u001b[0m\u001b[37m\u001b[0m \u001b[1m0s\u001b[0m 11ms/step - accuracy: 0.0074 - loss: -0.7613 - val_accuracy: 0.0000e+00 - val_loss: -1.8394\n",
      "Epoch 10/20\n",
      "\u001b[1m6/6\u001b[0m \u001b[32m━━━━━━━━━━━━━━━━━━━━\u001b[0m\u001b[37m\u001b[0m \u001b[1m0s\u001b[0m 14ms/step - accuracy: 0.0119 - loss: -1.3026 - val_accuracy: 0.0000e+00 - val_loss: -2.3095\n",
      "Epoch 11/20\n",
      "\u001b[1m6/6\u001b[0m \u001b[32m━━━━━━━━━━━━━━━━━━━━\u001b[0m\u001b[37m\u001b[0m \u001b[1m0s\u001b[0m 11ms/step - accuracy: 0.0119 - loss: -1.6715 - val_accuracy: 0.0000e+00 - val_loss: -2.8294\n",
      "Epoch 12/20\n",
      "\u001b[1m6/6\u001b[0m \u001b[32m━━━━━━━━━━━━━━━━━━━━\u001b[0m\u001b[37m\u001b[0m \u001b[1m0s\u001b[0m 13ms/step - accuracy: 0.0026 - loss: -2.1595 - val_accuracy: 0.0000e+00 - val_loss: -3.3875\n",
      "Epoch 13/20\n",
      "\u001b[1m6/6\u001b[0m \u001b[32m━━━━━━━━━━━━━━━━━━━━\u001b[0m\u001b[37m\u001b[0m \u001b[1m0s\u001b[0m 16ms/step - accuracy: 0.0074 - loss: -2.3682 - val_accuracy: 0.0000e+00 - val_loss: -3.9783\n",
      "Epoch 14/20\n",
      "\u001b[1m6/6\u001b[0m \u001b[32m━━━━━━━━━━━━━━━━━━━━\u001b[0m\u001b[37m\u001b[0m \u001b[1m0s\u001b[0m 13ms/step - accuracy: 0.0074 - loss: -3.2878 - val_accuracy: 0.0000e+00 - val_loss: -4.6569\n",
      "Epoch 15/20\n",
      "\u001b[1m6/6\u001b[0m \u001b[32m━━━━━━━━━━━━━━━━━━━━\u001b[0m\u001b[37m\u001b[0m \u001b[1m0s\u001b[0m 13ms/step - accuracy: 0.0056 - loss: -3.1019 - val_accuracy: 0.0000e+00 - val_loss: -5.4142\n",
      "Epoch 16/20\n",
      "\u001b[1m6/6\u001b[0m \u001b[32m━━━━━━━━━━━━━━━━━━━━\u001b[0m\u001b[37m\u001b[0m \u001b[1m0s\u001b[0m 13ms/step - accuracy: 0.0037 - loss: -4.1359 - val_accuracy: 0.0000e+00 - val_loss: -6.2894\n",
      "Epoch 17/20\n",
      "\u001b[1m6/6\u001b[0m \u001b[32m━━━━━━━━━━━━━━━━━━━━\u001b[0m\u001b[37m\u001b[0m \u001b[1m0s\u001b[0m 14ms/step - accuracy: 0.0026 - loss: -4.9693 - val_accuracy: 0.0000e+00 - val_loss: -7.2476\n",
      "Epoch 18/20\n",
      "\u001b[1m6/6\u001b[0m \u001b[32m━━━━━━━━━━━━━━━━━━━━\u001b[0m\u001b[37m\u001b[0m \u001b[1m0s\u001b[0m 13ms/step - accuracy: 0.0017 - loss: -5.0438 - val_accuracy: 0.0000e+00 - val_loss: -8.2660\n",
      "Epoch 19/20\n",
      "\u001b[1m6/6\u001b[0m \u001b[32m━━━━━━━━━━━━━━━━━━━━\u001b[0m\u001b[37m\u001b[0m \u001b[1m0s\u001b[0m 16ms/step - accuracy: 0.0052 - loss: -6.0131 - val_accuracy: 0.0000e+00 - val_loss: -9.4285\n",
      "Epoch 20/20\n",
      "\u001b[1m6/6\u001b[0m \u001b[32m━━━━━━━━━━━━━━━━━━━━\u001b[0m\u001b[37m\u001b[0m \u001b[1m0s\u001b[0m 12ms/step - accuracy: 0.0119 - loss: -6.7619 - val_accuracy: 0.0000e+00 - val_loss: -10.6925\n"
     ]
    }
   ],
   "source": [
    "\n",
    "model = Sequential([\n",
    "    Dense(64, activation='relu', input_shape=(X_train.shape[1],)),\n",
    "    Dropout(0.5),\n",
    "    Dense(32, activation='relu'),\n",
    "    Dropout(0.5),\n",
    "    Dense(1, activation='sigmoid')\n",
    "])\n",
    "\n",
    "model.compile(optimizer='adam', loss='binary_crossentropy', metrics=['accuracy'])\n",
    "history = model.fit(X_train, y_train, epochs=20, batch_size=32, validation_data=(X_test, y_test))\n"
   ]
  },
  {
   "cell_type": "code",
   "execution_count": 8,
   "metadata": {},
   "outputs": [
    {
     "name": "stdout",
     "output_type": "stream",
     "text": [
      "\u001b[1m2/2\u001b[0m \u001b[32m━━━━━━━━━━━━━━━━━━━━\u001b[0m\u001b[37m\u001b[0m \u001b[1m0s\u001b[0m 60ms/step\n",
      "Neural Network Accuracy: 0.0\n",
      "              precision    recall  f1-score   support\n",
      "\n",
      "           0       0.00      0.00      0.00      11.0\n",
      "           1       0.00      0.00      0.00       0.0\n",
      "           3       0.00      0.00      0.00       4.0\n",
      "           4       0.00      0.00      0.00      28.0\n",
      "\n",
      "    accuracy                           0.00      43.0\n",
      "   macro avg       0.00      0.00      0.00      43.0\n",
      "weighted avg       0.00      0.00      0.00      43.0\n",
      "\n"
     ]
    },
    {
     "name": "stderr",
     "output_type": "stream",
     "text": [
      "/home/shroudedsublet/anaconda3/lib/python3.12/site-packages/sklearn/metrics/_classification.py:1509: UndefinedMetricWarning: Precision is ill-defined and being set to 0.0 in labels with no predicted samples. Use `zero_division` parameter to control this behavior.\n",
      "  _warn_prf(average, modifier, f\"{metric.capitalize()} is\", len(result))\n",
      "/home/shroudedsublet/anaconda3/lib/python3.12/site-packages/sklearn/metrics/_classification.py:1509: UndefinedMetricWarning: Recall is ill-defined and being set to 0.0 in labels with no true samples. Use `zero_division` parameter to control this behavior.\n",
      "  _warn_prf(average, modifier, f\"{metric.capitalize()} is\", len(result))\n",
      "/home/shroudedsublet/anaconda3/lib/python3.12/site-packages/sklearn/metrics/_classification.py:1509: UndefinedMetricWarning: Precision is ill-defined and being set to 0.0 in labels with no predicted samples. Use `zero_division` parameter to control this behavior.\n",
      "  _warn_prf(average, modifier, f\"{metric.capitalize()} is\", len(result))\n",
      "/home/shroudedsublet/anaconda3/lib/python3.12/site-packages/sklearn/metrics/_classification.py:1509: UndefinedMetricWarning: Recall is ill-defined and being set to 0.0 in labels with no true samples. Use `zero_division` parameter to control this behavior.\n",
      "  _warn_prf(average, modifier, f\"{metric.capitalize()} is\", len(result))\n",
      "/home/shroudedsublet/anaconda3/lib/python3.12/site-packages/sklearn/metrics/_classification.py:1509: UndefinedMetricWarning: Precision is ill-defined and being set to 0.0 in labels with no predicted samples. Use `zero_division` parameter to control this behavior.\n",
      "  _warn_prf(average, modifier, f\"{metric.capitalize()} is\", len(result))\n",
      "/home/shroudedsublet/anaconda3/lib/python3.12/site-packages/sklearn/metrics/_classification.py:1509: UndefinedMetricWarning: Recall is ill-defined and being set to 0.0 in labels with no true samples. Use `zero_division` parameter to control this behavior.\n",
      "  _warn_prf(average, modifier, f\"{metric.capitalize()} is\", len(result))\n"
     ]
    },
    {
     "data": {
      "image/png": "[encoded data removed]",
      "text/plain": [
       "<Figure size 640x480 with 1 Axes>"
      ]
     },
     "metadata": {},
     "output_type": "display_data"
    }
   ],
   "source": [
    "y_pred_nn = (model.predict(X_test) > 0.5).astype(\"int32\")\n",
    "print(\"Neural Network Accuracy:\", accuracy_score(y_test, y_pred_nn))\n",
    "print(classification_report(y_test, y_pred_nn))\n",
    "\n",
    "# Plot training history\n",
    "plt.plot(history.history['accuracy'], label='Training Accuracy')\n",
    "plt.plot(history.history['val_accuracy'], label='Validation Accuracy')\n",
    "plt.xlabel('Epoch')\n",
    "plt.ylabel('Accuracy')\n",
    "plt.legend()\n",
    "plt.title('Neural Network Training History')\n",
    "plt.show()"
   ]
  },
  {
   "cell_type": "code",
   "execution_count": 9,
   "metadata": {},
   "outputs": [
    {
     "name": "stdout",
     "output_type": "stream",
     "text": [
      "Epoch 1/20\n"
     ]
    },
    {
     "name": "stderr",
     "output_type": "stream",
     "text": [
      "/home/shroudedsublet/anaconda3/lib/python3.12/site-packages/keras/src/layers/rnn/rnn.py:204: UserWarning: Do not pass an `input_shape`/`input_dim` argument to a layer. When using Sequential models, prefer using an `Input(shape)` object as the first layer in the model instead.\n",
      "  super().__init__(**kwargs)\n"
     ]
    },
    {
     "name": "stdout",
     "output_type": "stream",
     "text": [
      "\u001b[1m6/6\u001b[0m \u001b[32m━━━━━━━━━━━━━━━━━━━━\u001b[0m\u001b[37m\u001b[0m \u001b[1m4s\u001b[0m 113ms/step - accuracy: 0.3417 - loss: 21.9273 - val_accuracy: 0.2558 - val_loss: 31.9479\n",
      "Epoch 2/20\n",
      "\u001b[1m6/6\u001b[0m \u001b[32m━━━━━━━━━━━━━━━━━━━━\u001b[0m\u001b[37m\u001b[0m \u001b[1m0s\u001b[0m 12ms/step - accuracy: 0.3845 - loss: 21.3772 - val_accuracy: 0.2558 - val_loss: 30.7911\n",
      "Epoch 3/20\n",
      "\u001b[1m6/6\u001b[0m \u001b[32m━━━━━━━━━━━━━━━━━━━━\u001b[0m\u001b[37m\u001b[0m \u001b[1m0s\u001b[0m 13ms/step - accuracy: 0.3827 - loss: 21.5428 - val_accuracy: 0.2558 - val_loss: 30.5424\n",
      "Epoch 4/20\n",
      "\u001b[1m6/6\u001b[0m \u001b[32m━━━━━━━━━━━━━━━━━━━━\u001b[0m\u001b[37m\u001b[0m \u001b[1m0s\u001b[0m 12ms/step - accuracy: 0.3591 - loss: 22.9574 - val_accuracy: 0.2558 - val_loss: 30.3761\n",
      "Epoch 5/20\n",
      "\u001b[1m6/6\u001b[0m \u001b[32m━━━━━━━━━━━━━━━━━━━━\u001b[0m\u001b[37m\u001b[0m \u001b[1m0s\u001b[0m 12ms/step - accuracy: 0.3535 - loss: 23.2932 - val_accuracy: 0.2558 - val_loss: 30.2167\n",
      "Epoch 6/20\n",
      "\u001b[1m6/6\u001b[0m \u001b[32m━━━━━━━━━━━━━━━━━━━━\u001b[0m\u001b[37m\u001b[0m \u001b[1m0s\u001b[0m 12ms/step - accuracy: 0.3750 - loss: 21.0102 - val_accuracy: 0.2558 - val_loss: 29.2751\n",
      "Epoch 7/20\n",
      "\u001b[1m6/6\u001b[0m \u001b[32m━━━━━━━━━━━━━━━━━━━━\u001b[0m\u001b[37m\u001b[0m \u001b[1m0s\u001b[0m 13ms/step - accuracy: 0.3457 - loss: 23.5193 - val_accuracy: 0.2558 - val_loss: 29.0571\n",
      "Epoch 8/20\n",
      "\u001b[1m6/6\u001b[0m \u001b[32m━━━━━━━━━━━━━━━━━━━━\u001b[0m\u001b[37m\u001b[0m \u001b[1m0s\u001b[0m 14ms/step - accuracy: 0.3429 - loss: 23.1726 - val_accuracy: 0.2558 - val_loss: 28.9441\n",
      "Epoch 9/20\n",
      "\u001b[1m6/6\u001b[0m \u001b[32m━━━━━━━━━━━━━━━━━━━━\u001b[0m\u001b[37m\u001b[0m \u001b[1m0s\u001b[0m 13ms/step - accuracy: 0.3597 - loss: 20.7229 - val_accuracy: 0.2558 - val_loss: 28.7956\n",
      "Epoch 10/20\n",
      "\u001b[1m6/6\u001b[0m \u001b[32m━━━━━━━━━━━━━━━━━━━━\u001b[0m\u001b[37m\u001b[0m \u001b[1m0s\u001b[0m 12ms/step - accuracy: 0.3795 - loss: 22.2596 - val_accuracy: 0.2558 - val_loss: 28.6943\n",
      "Epoch 11/20\n",
      "\u001b[1m6/6\u001b[0m \u001b[32m━━━━━━━━━━━━━━━━━━━━\u001b[0m\u001b[37m\u001b[0m \u001b[1m0s\u001b[0m 12ms/step - accuracy: 0.3489 - loss: 20.2020 - val_accuracy: 0.2558 - val_loss: 28.6244\n",
      "Epoch 12/20\n",
      "\u001b[1m6/6\u001b[0m \u001b[32m━━━━━━━━━━━━━━━━━━━━\u001b[0m\u001b[37m\u001b[0m \u001b[1m0s\u001b[0m 12ms/step - accuracy: 0.3681 - loss: 18.6898 - val_accuracy: 0.2558 - val_loss: 28.5590\n",
      "Epoch 13/20\n",
      "\u001b[1m6/6\u001b[0m \u001b[32m━━━━━━━━━━━━━━━━━━━━\u001b[0m\u001b[37m\u001b[0m \u001b[1m0s\u001b[0m 13ms/step - accuracy: 0.3613 - loss: 18.8387 - val_accuracy: 0.2558 - val_loss: 28.4910\n",
      "Epoch 14/20\n",
      "\u001b[1m6/6\u001b[0m \u001b[32m━━━━━━━━━━━━━━━━━━━━\u001b[0m\u001b[37m\u001b[0m \u001b[1m0s\u001b[0m 13ms/step - accuracy: 0.3450 - loss: 20.8881 - val_accuracy: 0.2558 - val_loss: 28.4215\n",
      "Epoch 15/20\n",
      "\u001b[1m6/6\u001b[0m \u001b[32m━━━━━━━━━━━━━━━━━━━━\u001b[0m\u001b[37m\u001b[0m \u001b[1m0s\u001b[0m 13ms/step - accuracy: 0.3592 - loss: 19.9502 - val_accuracy: 0.2558 - val_loss: 28.3730\n",
      "Epoch 16/20\n",
      "\u001b[1m6/6\u001b[0m \u001b[32m━━━━━━━━━━━━━━━━━━━━\u001b[0m\u001b[37m\u001b[0m \u001b[1m0s\u001b[0m 11ms/step - accuracy: 0.3629 - loss: 19.2592 - val_accuracy: 0.2558 - val_loss: 28.3361\n",
      "Epoch 17/20\n",
      "\u001b[1m6/6\u001b[0m \u001b[32m━━━━━━━━━━━━━━━━━━━━\u001b[0m\u001b[37m\u001b[0m \u001b[1m0s\u001b[0m 13ms/step - accuracy: 0.3221 - loss: 20.4172 - val_accuracy: 0.2558 - val_loss: 28.3064\n",
      "Epoch 18/20\n",
      "\u001b[1m6/6\u001b[0m \u001b[32m━━━━━━━━━━━━━━━━━━━━\u001b[0m\u001b[37m\u001b[0m \u001b[1m0s\u001b[0m 12ms/step - accuracy: 0.3327 - loss: 20.4091 - val_accuracy: 0.2558 - val_loss: 28.2810\n",
      "Epoch 19/20\n",
      "\u001b[1m6/6\u001b[0m \u001b[32m━━━━━━━━━━━━━━━━━━━━\u001b[0m\u001b[37m\u001b[0m \u001b[1m0s\u001b[0m 16ms/step - accuracy: 0.3227 - loss: 20.0592 - val_accuracy: 0.2558 - val_loss: 28.2548\n",
      "Epoch 20/20\n",
      "\u001b[1m6/6\u001b[0m \u001b[32m━━━━━━━━━━━━━━━━━━━━\u001b[0m\u001b[37m\u001b[0m \u001b[1m0s\u001b[0m 14ms/step - accuracy: 0.3753 - loss: 18.9647 - val_accuracy: 0.2558 - val_loss: 28.2280\n"
     ]
    }
   ],
   "source": [
    "X_train_reshaped = X_train.reshape(X_train.shape[0], 1, X_train.shape[1])\n",
    "X_test_reshaped = X_test.reshape(X_test.shape[0], 1, X_test.shape[1])\n",
    "\n",
    "model_lstm = Sequential([\n",
    "    LSTM(4, input_shape=(X_train_reshaped.shape[1], X_train_reshaped.shape[2])),\n",
    "    Dense(1)\n",
    "])\n",
    "\n",
    "model_lstm.compile(optimizer='adam', loss='binary_crossentropy', metrics=['accuracy'])\n",
    "history = model_lstm.fit(X_train_reshaped, y_train, epochs=20, batch_size=32, validation_data=(X_test_reshaped, y_test))"
   ]
  },
  {
   "cell_type": "code",
   "execution_count": 10,
   "metadata": {},
   "outputs": [
    {
     "name": "stdout",
     "output_type": "stream",
     "text": [
      "\u001b[1m2/2\u001b[0m \u001b[32m━━━━━━━━━━━━━━━━━━━━\u001b[0m\u001b[37m\u001b[0m \u001b[1m0s\u001b[0m 239ms/step\n",
      "Neural Network Accuracy: 0.2558139534883721\n",
      "              precision    recall  f1-score   support\n",
      "\n",
      "           0       0.26      1.00      0.41        11\n",
      "           3       0.00      0.00      0.00         4\n",
      "           4       0.00      0.00      0.00        28\n",
      "\n",
      "    accuracy                           0.26        43\n",
      "   macro avg       0.09      0.33      0.14        43\n",
      "weighted avg       0.07      0.26      0.10        43\n",
      "\n"
     ]
    },
    {
     "name": "stderr",
     "output_type": "stream",
     "text": [
      "/home/shroudedsublet/anaconda3/lib/python3.12/site-packages/sklearn/metrics/_classification.py:1509: UndefinedMetricWarning: Precision is ill-defined and being set to 0.0 in labels with no predicted samples. Use `zero_division` parameter to control this behavior.\n",
      "  _warn_prf(average, modifier, f\"{metric.capitalize()} is\", len(result))\n",
      "/home/shroudedsublet/anaconda3/lib/python3.12/site-packages/sklearn/metrics/_classification.py:1509: UndefinedMetricWarning: Precision is ill-defined and being set to 0.0 in labels with no predicted samples. Use `zero_division` parameter to control this behavior.\n",
      "  _warn_prf(average, modifier, f\"{metric.capitalize()} is\", len(result))\n",
      "/home/shroudedsublet/anaconda3/lib/python3.12/site-packages/sklearn/metrics/_classification.py:1509: UndefinedMetricWarning: Precision is ill-defined and being set to 0.0 in labels with no predicted samples. Use `zero_division` parameter to control this behavior.\n",
      "  _warn_prf(average, modifier, f\"{metric.capitalize()} is\", len(result))\n"
     ]
    },
    {
     "data": {
      "image/png": "[encoded data removed]",
      "text/plain": [
       "<Figure size 640x480 with 1 Axes>"
      ]
     },
     "metadata": {},
     "output_type": "display_data"
    }
   ],
   "source": [
    "y_pred_lstm = (model_lstm.predict(X_test_reshaped) > 0.5).astype(\"int32\")\n",
    "print(\"Neural Network Accuracy:\", accuracy_score(y_test, y_pred_lstm))\n",
    "print(classification_report(y_test, y_pred_lstm))\n",
    "\n",
    "# Plot training history\n",
    "plt.plot(history.history['accuracy'], label='Training Accuracy')\n",
    "plt.plot(history.history['val_accuracy'], label='Validation Accuracy')\n",
    "plt.xlabel('Epoch')\n",
    "plt.ylabel('Accuracy')\n",
    "plt.legend()\n",
    "plt.title('Neural Network Training History')\n",
    "plt.show()"
   ]
  },
  {
   "cell_type": "code",
   "execution_count": 17,
   "metadata": {},
   "outputs": [],
   "source": [
    "ai_models = ['rf', 'gb', 'svm', 'nn', 'lstm']\n",
    "model_prediction = [y_pred_rf, y_pred_gb, y_pred_svm, y_pred_nn, y_pred_lstm]"
   ]
  },
  {
   "cell_type": "code",
   "execution_count": 19,
   "metadata": {},
   "outputs": [],
   "source": [
    "model_prediction = [np.round(pred) for pred in model_prediction]"
   ]
  },
  {
   "cell_type": "code",
   "execution_count": 26,
   "metadata": {},
   "outputs": [
    {
     "name": "stderr",
     "output_type": "stream",
     "text": [
      "/home/shroudedsublet/anaconda3/lib/python3.12/site-packages/sklearn/metrics/_classification.py:1509: UndefinedMetricWarning: Precision is ill-defined and being set to 0.0 in labels with no predicted samples. Use `zero_division` parameter to control this behavior.\n",
      "  _warn_prf(average, modifier, f\"{metric.capitalize()} is\", len(result))\n",
      "/home/shroudedsublet/anaconda3/lib/python3.12/site-packages/sklearn/metrics/_classification.py:1509: UndefinedMetricWarning: Precision is ill-defined and being set to 0.0 in labels with no predicted samples. Use `zero_division` parameter to control this behavior.\n",
      "  _warn_prf(average, modifier, f\"{metric.capitalize()} is\", len(result))\n",
      "/home/shroudedsublet/anaconda3/lib/python3.12/site-packages/sklearn/metrics/_classification.py:1509: UndefinedMetricWarning: Recall is ill-defined and being set to 0.0 in labels with no true samples. Use `zero_division` parameter to control this behavior.\n",
      "  _warn_prf(average, modifier, f\"{metric.capitalize()} is\", len(result))\n",
      "/home/shroudedsublet/anaconda3/lib/python3.12/site-packages/sklearn/metrics/_classification.py:1509: UndefinedMetricWarning: Precision is ill-defined and being set to 0.0 in labels with no predicted samples. Use `zero_division` parameter to control this behavior.\n",
      "  _warn_prf(average, modifier, f\"{metric.capitalize()} is\", len(result))\n"
     ]
    }
   ],
   "source": [
    "from sklearn.metrics import accuracy_score, precision_score, recall_score, f1_score, roc_auc_score\n",
    "\n",
    "num_samples = y_test.shape[0]\n",
    "\n",
    "model_prediction = [pred[-num_samples:].reshape(-1) for pred in model_prediction]\n",
    "\n",
    "accuracy_imb = []\n",
    "precision_imb = []\n",
    "recall_imb =[]\n",
    "f1_imb = []\n",
    "auc_imb = []\n",
    "\n",
    "for x in range(len(model_prediction)):\n",
    "    acc_score = np.round(accuracy_score(y_test.values, model_prediction[x]) * 100, 2)\n",
    "    accuracy_imb.append(acc_score)\n",
    "    pre_score = np.round(precision_score(y_test.values, model_prediction[x], average='weighted') * 100, 2)\n",
    "    precision_imb.append(pre_score)\n",
    "    rc_score = np.round(recall_score(y_test.values, model_prediction[x], average='weighted') * 100, 2)\n",
    "    recall_imb.append(rc_score)\n",
    "    f_score = np.round(f1_score(y_test.values, model_prediction[x], average='weighted') * 100, 2)\n",
    "    f1_imb.append(f_score)\n",
    "    #auc_sc = np.round(roc_auc_score(y_test.values, model_prediction[x], multi_class='ovr', average='weighted') * 100, 2)\n",
    "    #auc_imb.append(auc_sc)"
   ]
  },
  {
   "cell_type": "code",
   "execution_count": 34,
   "metadata": {},
   "outputs": [
    {
     "name": "stdout",
     "output_type": "stream",
     "text": [
      "Type of prediction_imb <class 'list'>\n",
      "Type of each element in prediction_imb <class 'numpy.ndarray'>\n",
      "Result of testing with an Imbalanced Dataset\n"
     ]
    },
    {
     "data": {
      "text/html": [
       "<div>\n",
       "<style scoped>\n",
       "    .dataframe tbody tr th:only-of-type {\n",
       "        vertical-align: middle;\n",
       "    }\n",
       "\n",
       "    .dataframe tbody tr th {\n",
       "        vertical-align: top;\n",
       "    }\n",
       "\n",
       "    .dataframe thead th {\n",
       "        text-align: right;\n",
       "    }\n",
       "</style>\n",
       "<table border=\"1\" class=\"dataframe\">\n",
       "  <thead>\n",
       "    <tr style=\"text-align: right;\">\n",
       "      <th></th>\n",
       "      <th>AI Models</th>\n",
       "      <th>Accuracy</th>\n",
       "      <th>Precision</th>\n",
       "      <th>Recall</th>\n",
       "      <th>F1-Score</th>\n",
       "    </tr>\n",
       "  </thead>\n",
       "  <tbody>\n",
       "    <tr>\n",
       "      <th>0</th>\n",
       "      <td>rf</td>\n",
       "      <td>93.02</td>\n",
       "      <td>93.32</td>\n",
       "      <td>93.02</td>\n",
       "      <td>93.11</td>\n",
       "    </tr>\n",
       "    <tr>\n",
       "      <th>1</th>\n",
       "      <td>gb</td>\n",
       "      <td>93.02</td>\n",
       "      <td>93.32</td>\n",
       "      <td>93.02</td>\n",
       "      <td>93.11</td>\n",
       "    </tr>\n",
       "    <tr>\n",
       "      <th>2</th>\n",
       "      <td>svm</td>\n",
       "      <td>65.12</td>\n",
       "      <td>57.00</td>\n",
       "      <td>65.12</td>\n",
       "      <td>60.68</td>\n",
       "    </tr>\n",
       "    <tr>\n",
       "      <th>3</th>\n",
       "      <td>nn</td>\n",
       "      <td>0.00</td>\n",
       "      <td>0.00</td>\n",
       "      <td>0.00</td>\n",
       "      <td>0.00</td>\n",
       "    </tr>\n",
       "    <tr>\n",
       "      <th>4</th>\n",
       "      <td>lstm</td>\n",
       "      <td>25.58</td>\n",
       "      <td>6.54</td>\n",
       "      <td>25.58</td>\n",
       "      <td>10.42</td>\n",
       "    </tr>\n",
       "  </tbody>\n",
       "</table>\n",
       "</div>"
      ],
      "text/plain": [
       "  AI Models  Accuracy  Precision  Recall  F1-Score\n",
       "0        rf     93.02      93.32   93.02     93.11\n",
       "1        gb     93.02      93.32   93.02     93.11\n",
       "2       svm     65.12      57.00   65.12     60.68\n",
       "3        nn      0.00       0.00    0.00      0.00\n",
       "4      lstm     25.58       6.54   25.58     10.42"
      ]
     },
     "execution_count": 34,
     "metadata": {},
     "output_type": "execute_result"
    }
   ],
   "source": [
    "print('Type of prediction_imb', type(model_prediction))\n",
    "print('Type of each element in prediction_imb', type(model_prediction[0]))\n",
    "model_perform_imb  = {'AI Models':ai_models,\n",
    "              'Accuracy':accuracy_imb,\n",
    "               'Precision':precision_imb,\n",
    "               'Recall':recall_imb,\n",
    "               'F1-Score':f1_imb,\n",
    "               #'AUC':auc_imb\n",
    "              }\n",
    "model_data_imb  = pd.DataFrame(model_perform_imb)\n",
    "print('Result of testing with an Imbalanced Dataset')\n",
    "model_data_imb"
   ]
  },
  {
   "cell_type": "code",
   "execution_count": 38,
   "metadata": {},
   "outputs": [
    {
     "data": {
      "image/png": "[encoded data removed]",
      "text/plain": [
       "<Figure size 1400x600 with 1 Axes>"
      ]
     },
     "metadata": {},
     "output_type": "display_data"
    }
   ],
   "source": [
    "model_imb = model_data_imb.set_index('AI Models')\n",
    "\n",
    "model_data_imb.plot(kind='bar', figsize=(14,6), width=0.6)\n",
    "plt.title('Comparison')\n",
    "plt.ylabel('Performance')\n",
    "plt.xlabel('ML Models')\n",
    "plt.xticks(rotation=0)\n",
    "plt.legend(loc='lower right')\n",
    "plt.show()"
   ]
  },
  {
   "cell_type": "code",
   "execution_count": null,
   "metadata": {},
   "outputs": [],
   "source": []
  }
 ],
 "metadata": {
  "colab": {
   "provenance": []
  },
  "kernelspec": {
   "display_name": "Python 3 (ipykernel)",
   "language": "python",
   "name": "python3"
  },
  "language_info": {
   "codemirror_mode": {
    "name": "ipython",
    "version": 3
   },
   "file_extension": ".py",
   "mimetype": "text/x-python",
   "name": "python",
   "nbconvert_exporter": "python",
   "pygments_lexer": "ipython3",
   "version": "3.12.2"
  }
 },
 "nbformat": 4,
 "nbformat_minor": 4
}
